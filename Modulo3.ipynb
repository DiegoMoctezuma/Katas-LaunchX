{
 "cells": [
  {
   "cell_type": "markdown",
   "metadata": {},
   "source": [
    "Advertencia si un asteroide se acerca a la Tierra demasiado rápido"
   ]
  },
  {
   "cell_type": "code",
   "execution_count": 1,
   "metadata": {},
   "outputs": [
    {
     "name": "stdout",
     "output_type": "stream",
     "text": [
      "¡Advertencia,un asteroide se acerca demasiado rápido a la Tierra!\n"
     ]
    }
   ],
   "source": [
    "asteroide= 49\n",
    "if asteroide>25:\n",
    "    print('¡Advertencia,un asteroide se acerca demasiado rápido a la Tierra!')\n",
    "else:\n",
    "    print('El Asteroide viaja a una velocidad normal')\n"
   ]
  },
  {
   "cell_type": "markdown",
   "metadata": {},
   "source": [
    "Si un asteroide entra en la atmósfera de la Tierra"
   ]
  },
  {
   "cell_type": "code",
   "execution_count": 2,
   "metadata": {},
   "outputs": [
    {
     "name": "stdout",
     "output_type": "stream",
     "text": [
      "Asteroide entrando a la atmósfera a una velocidad baja\n"
     ]
    }
   ],
   "source": [
    "asteroide= 19\n",
    "if asteroide > 20:\n",
    "    print('¡Asteroide entrando a la atmósfera, dejara un rayo de luz a su paso!')\n",
    "elif asteroide == 20:\n",
    "    print('¡Asteroide entrando a la atmósfera, dejara un rayo de luz a su paso!')\n",
    "else:\n",
    "    print('Asteroide entrando a la atmósfera a una velocidad baja')"
   ]
  },
  {
   "cell_type": "markdown",
   "metadata": {},
   "source": [
    "Asteroides que representan un peligro para la Tierra"
   ]
  },
  {
   "cell_type": "code",
   "execution_count": 3,
   "metadata": {},
   "outputs": [
    {
     "name": "stdout",
     "output_type": "stream",
     "text": [
      "¡Advertencia, un asteroide altamente peligroso se acerca a la Tierra!\n"
     ]
    }
   ],
   "source": [
    "t_asteroide=27\n",
    "v_asteroide=25\n",
    "\n",
    "if v_asteroide >=25 and t_asteroide >=25:\n",
    "    print('¡Advertencia, un asteroide altamente peligroso se acerca a la Tierra!')\n",
    "elif v_asteroide >=25 or t_asteroide >=25:\n",
    "    print('¡Asteroide peligroso se acerca a la Tierra!')\n",
    "elif t_asteroide <25:\n",
    "    print('Asteroide no peligroso')\n",
    "elif v_asteroide <25:\n",
    "    print('Asteroide no peligroso')\n",
    "else:\n",
    "    print('Asteroide no peligroso')"
   ]
  }
 ],
 "metadata": {
  "interpreter": {
   "hash": "ea8ab38951f87aa64bb42bd6d3ae1c67f707e291ed0effeb6393eec83c2a522d"
  },
  "kernelspec": {
   "display_name": "Python 3.10.2 64-bit",
   "language": "python",
   "name": "python3"
  },
  "language_info": {
   "codemirror_mode": {
    "name": "ipython",
    "version": 3
   },
   "file_extension": ".py",
   "mimetype": "text/x-python",
   "name": "python",
   "nbconvert_exporter": "python",
   "pygments_lexer": "ipython3",
   "version": "3.10.2"
  },
  "orig_nbformat": 4
 },
 "nbformat": 4,
 "nbformat_minor": 2
}
