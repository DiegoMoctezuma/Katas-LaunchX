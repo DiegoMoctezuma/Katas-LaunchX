{
 "cells": [
  {
   "cell_type": "markdown",
   "metadata": {},
   "source": [
    "## Listas de Planetas"
   ]
  },
  {
   "cell_type": "code",
   "execution_count": 6,
   "metadata": {},
   "outputs": [
    {
     "name": "stdout",
     "output_type": "stream",
     "text": [
      "Hay 9 Planetas en el Sistema Solar\n",
      "El ultimo planeta del sistema Solar es: Plutón\n"
     ]
    }
   ],
   "source": [
    "planetas=['Mercurio', 'Venus', 'Tierra', 'Marte', 'Jupiter', 'Saturno', 'Urano', 'Neptuno']\n",
    "planetas.append('Plutón')\n",
    "numero_de_planetas= len(planetas)\n",
    "print('Hay', numero_de_planetas, 'Planetas en el Sistema Solar')\n",
    "print('El ultimo planeta del sistema Solar es:', planetas[-1])"
   ]
  },
  {
   "cell_type": "markdown",
   "metadata": {},
   "source": [
    "## Mostrar planetas más cerca y más lejos del sol, de un planeta que el usuario ingresa por teclado."
   ]
  },
  {
   "cell_type": "code",
   "execution_count": 5,
   "metadata": {},
   "outputs": [
    {
     "name": "stdout",
     "output_type": "stream",
     "text": [
      "Los planetas antes que Marte son: ['Mercurio', 'Venus', 'Tierra']\n",
      "Los planetas depues que Marte son: ['Jupiter', 'Saturno', 'Urano', 'Neptuno']\n"
     ]
    }
   ],
   "source": [
    "planetas=['Mercurio', 'Venus', 'Tierra', 'Marte', 'Jupiter', 'Saturno', 'Urano', 'Neptuno']\n",
    "planeta_usuario= input('Indique el Planeta iniciando con mayuscula:')\n",
    "planeta_index= planetas.index(planeta_usuario)\n",
    "planetas_antes= planetas[0:planeta_index]\n",
    "planetas_despues= planetas[planeta_index + 1 :]\n",
    "\n",
    "print('Los planetas antes que', planeta_usuario,'son:', planetas_antes)\n",
    "print('Los planetas depues que', planeta_usuario,'son:', planetas_despues)"
   ]
  }
 ],
 "metadata": {
  "interpreter": {
   "hash": "ea8ab38951f87aa64bb42bd6d3ae1c67f707e291ed0effeb6393eec83c2a522d"
  },
  "kernelspec": {
   "display_name": "Python 3.10.2 64-bit",
   "language": "python",
   "name": "python3"
  },
  "language_info": {
   "codemirror_mode": {
    "name": "ipython",
    "version": 3
   },
   "file_extension": ".py",
   "mimetype": "text/x-python",
   "name": "python",
   "nbconvert_exporter": "python",
   "pygments_lexer": "ipython3",
   "version": "3.10.2"
  },
  "orig_nbformat": 4
 },
 "nbformat": 4,
 "nbformat_minor": 2
}
