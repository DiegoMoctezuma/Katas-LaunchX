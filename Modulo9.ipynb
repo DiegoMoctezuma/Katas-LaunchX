{
 "cells": [
  {
   "cell_type": "markdown",
   "metadata": {},
   "source": [
    "## Ubicaciones de combustible en el cohete"
   ]
  },
  {
   "cell_type": "code",
   "execution_count": 6,
   "metadata": {},
   "outputs": [
    {
     "name": "stdout",
     "output_type": "stream",
     "text": [
      " Reporte de combustible:\n",
      "    Combustible total: 3.3333333333333335%\n",
      "    Tanque 1: 1%\n",
      "    Tanque 2: 3%\n",
      "    Tanque 3: 6%\n",
      "    \n"
     ]
    }
   ],
   "source": [
    "def promedio (values):\n",
    "    total=sum(values)\n",
    "    catidad_datos= len(values)\n",
    "    return total / catidad_datos\n",
    "\n",
    "def combustible(tanque1,tanque2,tanque3):\n",
    "    return f\"\"\" Reporte de combustible:\n",
    "    Combustible total: {promedio([tanque1,tanque2,tanque3])}%\n",
    "    Tanque 1: {tanque1}%\n",
    "    Tanque 2: {tanque2}%\n",
    "    Tanque 3: {tanque3}%\n",
    "    \"\"\"\n",
    "print(combustible(1,3,6))"
   ]
  },
  {
   "cell_type": "markdown",
   "metadata": {},
   "source": [
    "### Informe de cohete"
   ]
  },
  {
   "cell_type": "code",
   "execution_count": 7,
   "metadata": {},
   "outputs": [
    {
     "name": "stdout",
     "output_type": "stream",
     "text": [
      "\n",
      "    Destino: Luna\n",
      "    Tiempo del viaje: 37 minutos.\n",
      "    Combustible total: 120000\n",
      "    \n"
     ]
    }
   ],
   "source": [
    "def inf_mision(destino, *minutos, **reservas_combustible):\n",
    "    return f\"\"\"\n",
    "    Destino: {destino}\n",
    "    Tiempo del viaje: {sum(minutos)} minutos.\n",
    "    Combustible total: {sum(reservas_combustible.values())}\n",
    "    \"\"\"\n",
    "\n",
    "print(inf_mision('Luna',25,12, tanque_interno=20000, tanque_externo=100000))"
   ]
  }
 ],
 "metadata": {
  "interpreter": {
   "hash": "ea8ab38951f87aa64bb42bd6d3ae1c67f707e291ed0effeb6393eec83c2a522d"
  },
  "kernelspec": {
   "display_name": "Python 3.10.2 64-bit",
   "language": "python",
   "name": "python3"
  },
  "language_info": {
   "codemirror_mode": {
    "name": "ipython",
    "version": 3
   },
   "file_extension": ".py",
   "mimetype": "text/x-python",
   "name": "python",
   "nbconvert_exporter": "python",
   "pygments_lexer": "ipython3",
   "version": "3.10.2"
  },
  "orig_nbformat": 4
 },
 "nbformat": 4,
 "nbformat_minor": 2
}
