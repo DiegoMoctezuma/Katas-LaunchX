{
 "cells": [
  {
   "cell_type": "markdown",
   "metadata": {},
   "source": [
    "### Calcular la distancia entre dos planetas"
   ]
  },
  {
   "cell_type": "code",
   "execution_count": 10,
   "metadata": {},
   "outputs": [
    {
     "name": "stdout",
     "output_type": "stream",
     "text": [
      "628949330 Kilometros\n",
      "390577534 Millas\n"
     ]
    }
   ],
   "source": [
    "tierra= 149597870 #km\n",
    "jupiter= 778547200 #km\n",
    "distancia= abs(tierra - jupiter)\n",
    "distancia_millas= round(distancia * 0.621)\n",
    "print( str(distancia) + ' Kilometros')\n",
    "print(str(distancia_millas) + ' Millas')"
   ]
  },
  {
   "cell_type": "markdown",
   "metadata": {},
   "source": [
    "## Distancia del Sol entre dos planetas para saber su distancia"
   ]
  },
  {
   "cell_type": "code",
   "execution_count": 14,
   "metadata": {},
   "outputs": [
    {
     "name": "stdout",
     "output_type": "stream",
     "text": [
      "50300000 Km\n",
      "31236300.0 Millas\n"
     ]
    }
   ],
   "source": [
    "planeta1= input('¿Cual es la distancia entre el primer planeta y el Sol?')\n",
    "planeta2= input('¿Cual es la distancia entre el segundo planeta y el Sol?')\n",
    "\n",
    "planeta1= int(planeta1)\n",
    "planeta2= int(planeta2)\n",
    "\n",
    "distancia_km= abs(planeta1 - planeta2)\n",
    "distancia_millas= distancia_km * 0.621\n",
    "\n",
    "print(str(distancia_km) + ' Km')\n",
    "print(str(distancia_millas) + ' Millas')\n"
   ]
  }
 ],
 "metadata": {
  "interpreter": {
   "hash": "ea8ab38951f87aa64bb42bd6d3ae1c67f707e291ed0effeb6393eec83c2a522d"
  },
  "kernelspec": {
   "display_name": "Python 3.10.2 64-bit",
   "language": "python",
   "name": "python3"
  },
  "language_info": {
   "codemirror_mode": {
    "name": "ipython",
    "version": 3
   },
   "file_extension": ".py",
   "mimetype": "text/x-python",
   "name": "python",
   "nbconvert_exporter": "python",
   "pygments_lexer": "ipython3",
   "version": "3.10.2"
  },
  "orig_nbformat": 4
 },
 "nbformat": 4,
 "nbformat_minor": 2
}
