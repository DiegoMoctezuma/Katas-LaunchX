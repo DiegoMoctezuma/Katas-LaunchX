{
 "cells": [
  {
   "cell_type": "markdown",
   "metadata": {},
   "source": [
    "Modifición de texto con hechos sobre la Luna"
   ]
  },
  {
   "cell_type": "code",
   "execution_count": 9,
   "metadata": {},
   "outputs": [
    {
     "name": "stdout",
     "output_type": "stream",
     "text": [
      "On average, the Moon moves 4cm away from the Earth every year\n",
      " The highest daylight temperature of the Moon is 127 Celcius\n"
     ]
    }
   ],
   "source": [
    "text =\"\"\"Interesting facts about the Moon. The Moon is Earth's only satellite. There are several interesting facts about the Moon and how it affects life here on Earth.On average, the Moon moves 4cm away from the Earth every year. This yearly drift is not significant enough to cause immediate effects on Earth. The highest daylight temperature of the Moon is 127 C.\" \"\"\"\n",
    "\n",
    "parrafos= (text.split('.'))\n",
    "palabrasClave=[\"average\", \"temperature\", \"distance\"]\n",
    "\n",
    "for i in parrafos:\n",
    "    for palabraClave in palabrasClave:\n",
    "        if palabraClave in i:\n",
    "            print(i.replace('C','Celcius'))\n",
    "            break\n",
    "\n"
   ]
  },
  {
   "cell_type": "markdown",
   "metadata": {},
   "source": [
    "Gravedad"
   ]
  },
  {
   "cell_type": "code",
   "execution_count": 17,
   "metadata": {},
   "outputs": [
    {
     "name": "stdout",
     "output_type": "stream",
     "text": [
      "Datos Gravitarios De Luna \n",
      " \n",
      "Nombre del Planeta: Tierra\n",
      "Gravedad en Luna: 1.6199999999999999 m/s\n",
      "\n",
      "Datos Gravitarios De Ganímedes \n",
      " \n",
      "Nombre del Planeta: Marte \n",
      "Gravedad en Ganímedes: 1.4300000000000002 m/s\n",
      "\n"
     ]
    }
   ],
   "source": [
    "nombre= 'Luna'\n",
    "gravedad= 0.00162\n",
    "planeta= 'Tierra'\n",
    "\n",
    "titulo= f'Datos gravitarios de {nombre}'\n",
    "datos= f\"\"\"\n",
    "Nombre del Planeta: {planeta}\n",
    "Gravedad en {nombre}: {gravedad * 1000} m/s\n",
    "\"\"\"\n",
    "todo= f'{titulo.title()} \\n {datos}'\n",
    "\n",
    "print(todo)\n",
    "\n",
    "\n",
    "planeta = 'Marte '\n",
    "gravedad  = 0.00143\n",
    "nombre = 'Ganímedes'\n",
    "\n",
    "titulo= f'Datos gravitarios de {nombre}'\n",
    "datos= f\"\"\"\n",
    "Nombre del Planeta: {planeta}\n",
    "Gravedad en {nombre}: {gravedad * 1000} m/s\n",
    "\"\"\"\n",
    "todo= f'{titulo.title()} \\n {datos}'\n",
    "\n",
    "print(todo)"
   ]
  }
 ],
 "metadata": {
  "interpreter": {
   "hash": "ea8ab38951f87aa64bb42bd6d3ae1c67f707e291ed0effeb6393eec83c2a522d"
  },
  "kernelspec": {
   "display_name": "Python 3.10.2 64-bit",
   "language": "python",
   "name": "python3"
  },
  "language_info": {
   "codemirror_mode": {
    "name": "ipython",
    "version": 3
   },
   "file_extension": ".py",
   "mimetype": "text/x-python",
   "name": "python",
   "nbconvert_exporter": "python",
   "pygments_lexer": "ipython3",
   "version": "3.10.2"
  },
  "orig_nbformat": 4
 },
 "nbformat": 4,
 "nbformat_minor": 2
}
