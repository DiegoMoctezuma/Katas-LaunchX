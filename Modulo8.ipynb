{
 "cells": [
  {
   "cell_type": "markdown",
   "metadata": {},
   "source": [
    "### Informacion sobre Marte"
   ]
  },
  {
   "cell_type": "code",
   "execution_count": 1,
   "metadata": {},
   "outputs": [
    {
     "name": "stdout",
     "output_type": "stream",
     "text": [
      "El planeta Marte tiene un diametro polar de: 6752\n"
     ]
    }
   ],
   "source": [
    "planeta={\n",
    "    'nombre': 'Marte',\n",
    "    'lunas': 2\n",
    "}\n",
    "planeta['diametro (km)']= {\n",
    "    'polar': 6752,\n",
    "    'ecuatorial': 6792\n",
    "}\n",
    "print('El planeta',planeta['nombre'],'tiene un diametro polar de:',planeta['diametro (km)']['polar'])"
   ]
  },
  {
   "cell_type": "markdown",
   "metadata": {},
   "source": [
    "### Lunas del Sistema Solar"
   ]
  },
  {
   "cell_type": "code",
   "execution_count": 2,
   "metadata": {},
   "outputs": [
    {
     "name": "stdout",
     "output_type": "stream",
     "text": [
      "El total de lunas que hay en el Sistema Solar es de: 214\n",
      "El promedio de lunas entre planetas en el Sistema Solar es de: 17.833333333333332\n"
     ]
    }
   ],
   "source": [
    "planetas_lunas = {\n",
    "    'mercurio': 0,\n",
    "    'venus': 0,\n",
    "    'tierra': 1,\n",
    "    'marte': 2,\n",
    "    'jupiter': 79,\n",
    "    'saturno': 82,\n",
    "    'urano': 27,\n",
    "    'neptuno': 14,\n",
    "    'pluton': 5,\n",
    "    'haumea': 2,\n",
    "    'makemake': 1,\n",
    "    'eris': 1\n",
    "}\n",
    "lunas=planetas_lunas.values()\n",
    "planetas=len(planetas_lunas.keys())\n",
    "\n",
    "lunas_totales=0\n",
    "for i in lunas:\n",
    "    lunas_totales=lunas_totales + i\n",
    "\n",
    "promedio= lunas_totales / planetas\n",
    "\n",
    "print('El total de lunas que hay en el Sistema Solar es de:', lunas_totales)\n",
    "print('El promedio de lunas entre planetas en el Sistema Solar es de:', promedio)"
   ]
  }
 ],
 "metadata": {
  "interpreter": {
   "hash": "ea8ab38951f87aa64bb42bd6d3ae1c67f707e291ed0effeb6393eec83c2a522d"
  },
  "kernelspec": {
   "display_name": "Python 3.10.2 64-bit",
   "language": "python",
   "name": "python3"
  },
  "language_info": {
   "codemirror_mode": {
    "name": "ipython",
    "version": 3
   },
   "file_extension": ".py",
   "mimetype": "text/x-python",
   "name": "python",
   "nbconvert_exporter": "python",
   "pygments_lexer": "ipython3",
   "version": "3.10.2"
  },
  "orig_nbformat": 4
 },
 "nbformat": 4,
 "nbformat_minor": 2
}
